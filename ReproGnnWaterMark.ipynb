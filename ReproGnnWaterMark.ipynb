{
  "cells": [
    {
      "cell_type": "markdown",
      "metadata": {
        "id": "view-in-github",
        "colab_type": "text"
      },
      "source": [
        "<a href=\"https://colab.research.google.com/github/mahmud-sayed-alamin/Finger-Based-Attendance-System-Using-IoT/blob/main/ReproGnnWaterMark.ipynb\" target=\"_parent\"><img src=\"https://colab.research.google.com/assets/colab-badge.svg\" alt=\"Open In Colab\"/></a>"
      ]
    },
    {
      "cell_type": "code",
      "execution_count": null,
      "metadata": {
        "colab": {
          "background_save": true
        },
        "id": "0OXhngaudU2F"
      },
      "outputs": [],
      "source": [
        "import torch\n",
        "import torch.nn as nn\n",
        "import torch.nn.functional as F\n",
        "from torch_geometric.datasets import Planetoid  # For loading the dataset\n",
        "from torch_geometric.nn import GCNConv         # For implementing the GNN model\n",
        "from torch_geometric.data import Data"
      ]
    },
    {
      "cell_type": "code",
      "execution_count": null,
      "metadata": {
        "colab": {
          "background_save": true,
          "base_uri": "https://localhost:8080/"
        },
        "id": "BWKdMJyT3BhV",
        "outputId": "cacd6309-0bec-4936-ae6b-ded99ed57520"
      },
      "outputs": [
        {
          "data": {
            "text/plain": [
              "<torch._C.Generator at 0x781b79b79b50>"
            ]
          },
          "execution_count": 168,
          "metadata": {},
          "output_type": "execute_result"
        }
      ],
      "source": [
        "torch.manual_seed(42)"
      ]
    },
    {
      "cell_type": "code",
      "execution_count": null,
      "metadata": {
        "colab": {
          "background_save": true
        },
        "id": "01bAbeEVTC1A"
      },
      "outputs": [],
      "source": [
        "class GCN(torch.nn.Module):\n",
        "    def __init__(self, in_channels, hidden_channels, out_channels):\n",
        "        super(GCN, self).__init__()\n",
        "        # Define two GCN layers\n",
        "        self.conv1 = GCNConv(in_channels, hidden_channels)  # First layer\n",
        "        self.conv2 = GCNConv(hidden_channels, out_channels)  # Second layer\n",
        "\n",
        "    def forward(self, x, edge_index):\n",
        "        # First GCN layer with ReLU activation\n",
        "        x = self.conv1(x, edge_index)\n",
        "        x = F.relu(x)\n",
        "        x = F.dropout(x, p=0.05, training=self.training)  # Dropout for regularization\n",
        "\n",
        "        # Second GCN layer\n",
        "        x = self.conv2(x, edge_index)\n",
        "        return F.log_softmax(x, dim=1)  # Log-Softmax for node classification"
      ]
    },
    {
      "cell_type": "code",
      "execution_count": null,
      "metadata": {
        "colab": {
          "background_save": true
        },
        "id": "_qdpS8SqnDAS"
      },
      "outputs": [],
      "source": [
        "model = GCN(\n",
        "    in_channels=1433,  # Number of input features (Cora dataset)\n",
        "    hidden_channels=32,  # Size of the hidden layer\n",
        "    out_channels=7  # Number of classes (Cora has 7 topics)\n",
        ")"
      ]
    },
    {
      "cell_type": "code",
      "execution_count": null,
      "metadata": {
        "colab": {
          "background_save": true,
          "base_uri": "https://localhost:8080/"
        },
        "id": "4fx_WBPgn2B6",
        "outputId": "0d54d297-846c-430e-b6a0-7fb874d19b77"
      },
      "outputs": [
        {
          "name": "stdout",
          "output_type": "stream",
          "text": [
            "torch.Size([2708, 7])\n"
          ]
        }
      ],
      "source": [
        "# Example: Run the model on the Cora dataset\n",
        "out = model(data.x, data.edge_index)\n",
        "print(out.shape)"
      ]
    },
    {
      "cell_type": "code",
      "execution_count": null,
      "metadata": {
        "colab": {
          "background_save": true
        },
        "id": "moA0UJzAyIfk"
      },
      "outputs": [],
      "source": [
        "import torch.nn.functional as F\n",
        "\n",
        "# Define the loss function\n",
        "def compute_loss(output, y, mask):\n",
        "    # Only consider nodes specified by the mask\n",
        "    loss = F.nll_loss(output[mask], y[mask])\n",
        "    return loss\n",
        "\n",
        "# Use Adam optimizer (commonly used for GNNs)\n",
        "optimizer = torch.optim.Adam(model.parameters(), lr=0.01, weight_decay=5e-2)"
      ]
    },
    {
      "cell_type": "code",
      "execution_count": null,
      "metadata": {
        "colab": {
          "background_save": true
        },
        "id": "LsJjYGFWydz9"
      },
      "outputs": [],
      "source": [
        "# Define the training function\n",
        "def train(data):\n",
        "    model.train()  # Set the model to training mode\n",
        "    optimizer.zero_grad()  # Clear gradients from the previous step\n",
        "\n",
        "    # Forward pass\n",
        "    output = model(data.x, data.edge_index)\n",
        "\n",
        "    # Compute the loss using the training mask\n",
        "    loss = compute_loss(output, data.y, data.train_mask)\n",
        "\n",
        "    # Backward pass\n",
        "    loss.backward()\n",
        "\n",
        "    # Update the model parameters\n",
        "    optimizer.step()\n",
        "\n",
        "    return loss.item()"
      ]
    },
    {
      "cell_type": "code",
      "execution_count": null,
      "metadata": {
        "colab": {
          "background_save": true
        },
        "id": "H6_TNTbJ0fsu"
      },
      "outputs": [],
      "source": [
        "\n",
        "# Define the test function\n",
        "def test(data):\n",
        "    model.eval()  # Set the model to evaluation mode\n",
        "\n",
        "    # Forward pass\n",
        "    output = model(data.x, data.edge_index)\n",
        "\n",
        "    # Get predictions (class with highest probability)\n",
        "    pred = output.argmax(dim=1)\n",
        "\n",
        "    # Compute accuracy for train, validation, and test sets\n",
        "    accs = []\n",
        "    for mask in [data.train_mask, data.val_mask, data.test_mask]:\n",
        "        correct = pred[mask].eq(data.y[mask]).sum().item()\n",
        "        acc = correct / mask.sum().item()\n",
        "        accs.append(acc)\n",
        "    return accs  # Returns [train_accuracy, val_accuracy, test_accuracy]"
      ]
    },
    {
      "cell_type": "code",
      "execution_count": null,
      "metadata": {
        "colab": {
          "background_save": true,
          "base_uri": "https://localhost:8080/"
        },
        "id": "JN4cts3h0sDG",
        "outputId": "6a6d65e5-8434-4e68-ac32-77cc143859e4"
      },
      "outputs": [
        {
          "name": "stdout",
          "output_type": "stream",
          "text": [
            "Epoch: 000, Loss: 1.9519, Train Acc: 0.7214, Val Acc: 0.4000, Test Acc: 0.3870\n",
            "Epoch: 010, Loss: 1.0011, Train Acc: 0.9643, Val Acc: 0.7700, Test Acc: 0.8040\n",
            "Epoch: 020, Loss: 0.7521, Train Acc: 0.9786, Val Acc: 0.7880, Test Acc: 0.8190\n",
            "Epoch: 030, Loss: 0.6811, Train Acc: 0.9857, Val Acc: 0.7860, Test Acc: 0.8110\n",
            "Epoch: 040, Loss: 0.7163, Train Acc: 0.9857, Val Acc: 0.7860, Test Acc: 0.8170\n",
            "Epoch: 050, Loss: 0.7496, Train Acc: 0.9786, Val Acc: 0.7840, Test Acc: 0.8080\n",
            "Epoch: 060, Loss: 0.7324, Train Acc: 0.9714, Val Acc: 0.7860, Test Acc: 0.8100\n",
            "Epoch: 070, Loss: 0.7272, Train Acc: 0.9786, Val Acc: 0.7820, Test Acc: 0.8140\n",
            "Epoch: 080, Loss: 0.7329, Train Acc: 0.9786, Val Acc: 0.7840, Test Acc: 0.8140\n",
            "Epoch: 090, Loss: 0.7226, Train Acc: 0.9857, Val Acc: 0.7840, Test Acc: 0.8140\n",
            "Epoch: 100, Loss: 0.7146, Train Acc: 0.9857, Val Acc: 0.7780, Test Acc: 0.8100\n",
            "Epoch: 110, Loss: 0.7312, Train Acc: 0.9857, Val Acc: 0.7800, Test Acc: 0.8070\n",
            "Epoch: 120, Loss: 0.7267, Train Acc: 0.9857, Val Acc: 0.7820, Test Acc: 0.8100\n",
            "Epoch: 130, Loss: 0.7247, Train Acc: 0.9786, Val Acc: 0.7840, Test Acc: 0.8140\n",
            "Epoch: 140, Loss: 0.7253, Train Acc: 0.9786, Val Acc: 0.7840, Test Acc: 0.8110\n",
            "Epoch: 150, Loss: 0.7350, Train Acc: 0.9714, Val Acc: 0.7860, Test Acc: 0.8170\n",
            "Epoch: 160, Loss: 0.7248, Train Acc: 0.9857, Val Acc: 0.7800, Test Acc: 0.8130\n",
            "Epoch: 170, Loss: 0.7158, Train Acc: 0.9786, Val Acc: 0.7800, Test Acc: 0.8110\n",
            "Epoch: 180, Loss: 0.7232, Train Acc: 0.9786, Val Acc: 0.7780, Test Acc: 0.8120\n",
            "Epoch: 190, Loss: 0.7192, Train Acc: 0.9786, Val Acc: 0.7840, Test Acc: 0.8130\n"
          ]
        }
      ],
      "source": [
        "for epoch in range(200):  # Train for 200 epochs\n",
        "    loss = train(data)  # Train the model\n",
        "    train_acc, val_acc, test_acc = test(data)  # Evaluate the model\n",
        "\n",
        "    # Print progress\n",
        "    if epoch % 10 == 0:  # Print every 10 epochs\n",
        "        print(f\"Epoch: {epoch:03d}, Loss: {loss:.4f}, \"\n",
        "              f\"Train Acc: {train_acc:.4f}, Val Acc: {val_acc:.4f}, Test Acc: {test_acc:.4f}\")"
      ]
    }
  ],
  "metadata": {
    "colab": {
      "provenance": [],
      "toc_visible": true,
      "authorship_tag": "ABX9TyMDH4X3DjP6ltICM6zow3Rm",
      "include_colab_link": true
    },
    "kernelspec": {
      "display_name": "Python 3",
      "name": "python3"
    },
    "language_info": {
      "name": "python"
    }
  },
  "nbformat": 4,
  "nbformat_minor": 0
}